{
 "cells": [
  {
   "cell_type": "markdown",
   "id": "acd5abe2",
   "metadata": {},
   "source": [
    "# Carga de librerias \n",
    "En este fragmento de código, se importan varias librerías esenciales para el procesamiento de imágenes y la implementación de aprendizaje automático. cv2 es importada para el manejo de imágenes, os para la manipulación de rutas y archivos en el sistema operativo, numpy para la gestión de estructuras de datos numéricos, y pickle para guardar y cargar objetos en Python. Además, se incluyen partes del módulo sklearn, específicamente para la creación y evaluación de un modelo de Máquina de Soporte Vectorial (SVM), junto con herramientas para dividir datos y medir la precisión del modelo."
   ]
  },
  {
   "cell_type": "code",
   "execution_count": null,
   "id": "100e6372",
   "metadata": {},
   "outputs": [],
   "source": [
    "import os\n",
    "import cv2 as cv\n",
    "import numpy as np\n",
    "import pickle\n",
    "from sklearn import svm\n",
    "from sklearn.model_selection import train_test_split\n",
    "from sklearn.metrics import accuracy_score"
   ]
  },
  {
   "cell_type": "markdown",
   "id": "5f60bedc",
   "metadata": {},
   "source": [
    "# Configuración de rutas para el procesamiento de imágenes\n",
    "\n",
    "En este fragmento de código, se configuran las rutas base para acceder a las imágenes que se utilizarán en el procesamiento. Se define ruta_base como la ubicación principal donde se almacenan los datos. A partir de esta ruta base, se especifican dos subdirectorios: positivas_dir para las imágenes clasificadas como positivas y negativas_dir para las imágenes clasificadas como negativas. Esto permite organizar los datos de manera eficiente para su posterior manipulación y análisis."
   ]
  },
  {
   "cell_type": "code",
   "execution_count": null,
   "id": "af3e14a3",
   "metadata": {},
   "outputs": [],
   "source": [
    "ruta_base = r'C:\\\\Users\\\\Janin\\\\Documents\\\\IA\\\\datasetWaldo'\n",
    "positivas_dir = os.path.join(ruta_base, 'positivo')\n",
    "negativas_dir = os.path.join(ruta_base, 'negativo')"
   ]
  },
  {
   "cell_type": "markdown",
   "id": "9b9e72f2",
   "metadata": {},
   "source": [
    "# Extracción de características HOG para procesamiento de imágenes\n",
    "\n",
    "Este fragmento de código define una función para extraer características utilizando el descriptor de Histogramas de Gradientes Orientados (HOG), una técnica popular en visión por computadora para la detección de objetos. La función convierte una imagen a escala de grises, la redimensiona a un tamaño predeterminado y luego calcula su descriptor HOG. Las características extraídas se aplanan en un solo vector para su fácil manipulación. Además, se inicializan dos listas, data y labels, que almacenarán estos vectores de características y sus etiquetas correspondientes, respectivamente."
   ]
  },
  {
   "cell_type": "code",
   "execution_count": null,
   "id": "f36c1a4b",
   "metadata": {},
   "outputs": [],
   "source": [
    "def extract_features(img, size=(64, 128)):\n",
    "    gray = cv.cvtColor(img, cv.COLOR_BGR2GRAY)\n",
    "    resized = cv.resize(gray, size)\n",
    "\n",
    "    hog = cv.HOGDescriptor(_winSize=(size[0] // 8 * 8, size[1] // 8 * 8),\n",
    "                           _blockSize=(16, 16),\n",
    "                           _blockStride=(8, 8),\n",
    "                           _cellSize=(8, 8),\n",
    "                           _nbins=9)\n",
    "    h = hog.compute(resized)\n",
    "    return h.flatten()\n",
    "\n",
    "data = []\n",
    "labels = []"
   ]
  },
  {
   "cell_type": "markdown",
   "id": "cdbce6ea",
   "metadata": {},
   "source": [
    "# Procesamiento de imágenes y entrenamiento de SVM para clasificación\n",
    "\n",
    "Este fragmento de código carga imágenes de dos directorios, uno con imágenes positivas y otro con negativas, extrae características usando el descriptor HOG, y las etiqueta como 1 (positiva) o 0 (negativa). Las características se almacenan en un array de Numpy junto con sus etiquetas. Posteriormente, se divide el conjunto de datos en entrenamiento y prueba, y se entrena un modelo SVM con kernel lineal. Finalmente, se evalúa la precisión del modelo y se guarda el modelo entrenado en un archivo para su uso futuro. Este proceso automatiza la clasificación de nuevas imágenes basada en el aprendizaje previo."
   ]
  },
  {
   "cell_type": "code",
   "execution_count": null,
   "id": "aedbb6e0",
   "metadata": {},
   "outputs": [],
   "source": [
    "\n",
    "for img_file in os.listdir(positivas_dir):\n",
    "    img_path = os.path.join(positivas_dir, img_file)\n",
    "    img = cv.imread(img_path)\n",
    "    if img is not None:\n",
    "        features = extract_features(img)\n",
    "        data.append(features)\n",
    "        labels.append(1)\n",
    "\n",
    "for img_file in os.listdir(negativas_dir):\n",
    "    img_path = os.path.join(negativas_dir, img_file)\n",
    "    img = cv.imread(img_path)\n",
    "    if img is not None:\n",
    "        features = extract_features(img)\n",
    "        data.append(features)\n",
    "        labels.append(0) \n",
    "\n",
    "data = np.array(data)\n",
    "labels = np.array(labels)\n",
    "\n",
    "X_train, X_test, y_train, y_test = train_test_split(data, labels, test_size=0.5, random_state=80)\n",
    "\n",
    "svm_model = svm.SVC(kernel='linear', probability=True)\n",
    "svm_model.fit(X_train, y_train)\n",
    "\n",
    "y_pred = svm_model.predict(X_test)\n",
    "accuracy = accuracy_score(y_test, y_pred)\n",
    "print(f'Precisión del modelo: {accuracy * 100:.2f}%')\n",
    "\n",
    "with open('wally_svm_model2.pkl', 'wb') as f:\n",
    "    pickle.dump(svm_model, f)\n",
    "print(\"Modelo SVM guardado como 'wally_svm_model2.pkl'\")"
   ]
  },
  {
   "cell_type": "markdown",
   "id": "3a8a96c4",
   "metadata": {},
   "source": [
    "# Detección de objetos con ventanas deslizantes y HOG \n",
    "\n",
    "Desarrollé un script para detectar objetos utilizando el descriptor HOG (Histogram of Oriented Gradients) en OpenCV. Primero, definí una función para extraer características HOG de las imágenes. Luego, apliqué un enfoque de ventana deslizante sobre una imagen específica para identificar regiones potenciales donde el objeto podría estar presente. Cada región se procesó para extraer características y se clasificó usando un modelo SVM previamente entrenado. Utilicé la técnica de supresión de no máximos para reducir múltiples detecciones a la más probable. Finalmente, las detecciones confirmadas se marcaron en la imagen original, indicando la presencia del objeto con rectángulos y etiquetas."
   ]
  },
  {
   "cell_type": "code",
   "execution_count": null,
   "id": "d06d5312",
   "metadata": {},
   "outputs": [],
   "source": [
    "    import cv2 as cv\n",
    "    import numpy as np\n",
    "    import pickle\n",
    "    import os\n",
    "\n",
    "def extract_features(img, size=(64, 128)):\n",
    "        gray = cv.cvtColor(img, cv.COLOR_BGR2GRAY)\n",
    "        resized = cv.resize(gray, size)\n",
    "        hog = cv.HOGDescriptor()\n",
    "        h = hog.compute(resized)\n",
    "        return h.flatten()\n",
    "    \n",
    "    image_path = r'C:\\Users\\Janin\\Documents\\IA\\datasetWaldo\\img\\w.png'\n",
    "    image = cv.imread(image_path)\n",
    "    \n",
    "   \n",
    "    window_size = (100, 100) \n",
    "    step_size = 150\n",
    "    \n",
    "    \n",
    "    found = False\n",
    "\n",
    "    detections = []\n",
    "    \n",
    "    for y in range(0, image.shape[0] - window_size[1], step_size):\n",
    "        for x in range(0, image.shape[1] - window_size[0], step_size):\n",
    "            sub_img = image[y:y + window_size[1], x:x + window_size[0]]\n",
    "            features = extract_features(sub_img)\n",
    "            prediction = svm_model.predict([features])\n",
    "            if prediction == 1:  # Wally encontrado\n",
    "                detections.append((x, y, window_size[0], window_size[1]))\n",
    "    \n",
    "    def non_max_suppression(boxes, overlapThresh):\n",
    "        if len(boxes) == 0:\n",
    "            return []\n",
    "    \n",
    "        boxes = np.array(boxes)\n",
    "        pick = []\n",
    "    \n",
    "        x1 = boxes[:, 0]\n",
    "        y1 = boxes[:, 1]\n",
    "        x2 = boxes[:, 0] + boxes[:, 2]\n",
    "        y2 = boxes[:, 1] + boxes[:, 3]\n",
    "    \n",
    "        area = (x2 - x1 + 1) * (y2 - y1 + 1)\n",
    "        idxs = np.argsort(y2)\n",
    "    \n",
    "        while len(idxs) > 0:\n",
    "            last = len(idxs) - 1\n",
    "            i = idxs[last]\n",
    "            pick.append(i)\n",
    "    \n",
    "            xx1 = np.maximum(x1[i], x1[idxs[:last]])\n",
    "            yy1 = np.maximum(y1[i], y1[idxs[:last]])\n",
    "            xx2 = np.minimum(x2[i], x2[idxs[:last]])\n",
    "            yy2 = np.minimum(y2[i], y2[idxs[:last]])\n",
    "    \n",
    "            w = np.maximum(0, xx1 - xx2 + 1)\n",
    "            h = np.maximum(0, yy1 - yy2 + 1)\n",
    "    \n",
    "            overlap = (w * h) / area[idxs[:last]]\n",
    "    \n",
    "            idxs = np.delete(idxs, np.concatenate(([last], np.where(overlap > overlapThresh)[0])))\n",
    "    \n",
    "        return boxes[pick].astype(int)\n",
    "    \n",
    "    detections = non_max_suppression(detections, overlapThresh=0.3)\n",
    "    \n",
    "    for (x, y, w, h) in detections:\n",
    "        cv.rectangle(image, (x, y), (x + w, y + h), (0, 255, 0), 2)\n",
    "        cv.putText(image, 'Wally', (x, y - 10), cv.FONT_HERSHEY_SIMPLEX, 0.9, (0, 255, 0), 2)\n",
    "        found = True\n",
    "    \n",
    "    if not found:\n",
    "        print(\"Wally no encontrado en la imagen. :c\")\n",
    "    \n",
    "    height, width, _ = image.shape\n",
    "    \n",
    "    resize_factor = 0.7  \n",
    "    new_width = int(width * resize_factor)\n",
    "    new_height = int(height * resize_factor)\n",
    "    \n",
    "    cv.namedWindow('Donde esta Wally', cv.WINDOW_NORMAL)\n",
    "    cv.resizeWindow('Donde esta Wally', new_width, new_height)\n",
    "    cv.imshow('Donde esta Wally', image)\n",
    "    cv.waitKey(0)\n",
    "    cv.destroyAllWindows()"
   ]
  }
 ],
 "metadata": {
  "kernelspec": {
   "display_name": "Python 3 (ipykernel)",
   "language": "python",
   "name": "python3"
  },
  "language_info": {
   "codemirror_mode": {
    "name": "ipython",
    "version": 3
   },
   "file_extension": ".py",
   "mimetype": "text/x-python",
   "name": "python",
   "nbconvert_exporter": "python",
   "pygments_lexer": "ipython3",
   "version": "3.11.5"
  }
 },
 "nbformat": 4,
 "nbformat_minor": 5
}
